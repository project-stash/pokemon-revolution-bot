{
 "cells": [
  {
   "cell_type": "code",
   "execution_count": 2,
   "metadata": {},
   "outputs": [],
   "source": [
    "import pyautogui as pg, sys,time,random\n",
    "import pytesseract\n",
    "from selenium import webdriver\n",
    "from PIL import ImageGrab\n",
    "from PIL import Image\n",
    "from selenium.webdriver.edge.service import Service\n",
    "from selenium.webdriver.edge.options import Options\n",
    "from selenium.webdriver.common.by import By"
   ]
  },
  {
   "cell_type": "code",
   "execution_count": 232,
   "metadata": {},
   "outputs": [],
   "source": [
    "edge_options = Options()\n",
    "edge_options.add_experimental_option(\"detach\", True)\n",
    "#edge_options.add_argument('headless')\n",
    "screenshot = ImageGrab.grab()\n",
    "service = Service(executable_path='./msedgedriver.exe')\n",
    "driver = webdriver.Edge(service = service,options = edge_options)\n",
    "url = \"https://pokemon-planet.com\"\n",
    "driver.get(url)"
   ]
  },
  {
   "cell_type": "code",
   "execution_count": 233,
   "metadata": {},
   "outputs": [],
   "source": [
    "driver.set_window_size(1722, 1034)"
   ]
  },
  {
   "cell_type": "code",
   "execution_count": 234,
   "metadata": {},
   "outputs": [
    {
     "name": "stdout",
     "output_type": "stream",
     "text": [
      "{'width': 1722, 'height': 1034}\n"
     ]
    }
   ],
   "source": [
    "print(driver.get_window_size())"
   ]
  },
  {
   "cell_type": "code",
   "execution_count": 235,
   "metadata": {},
   "outputs": [],
   "source": [
    "button = driver.find_element(By.ID, \"playnow2\")\n",
    "button.click()\n",
    "button = driver.find_element(By.ID, \"user\")\n",
    "button.send_keys(\"invincibletroll\")\n",
    "button = driver.find_element(By.ID, \"passwrd\")\n",
    "button.send_keys(\"chi020725\")"
   ]
  },
  {
   "cell_type": "code",
   "execution_count": 236,
   "metadata": {},
   "outputs": [],
   "source": [
    "button = driver.find_element(By.XPATH, '//button[@type=\"submit\"]')\n",
    "button.click()"
   ]
  },
  {
   "cell_type": "code",
   "execution_count": null,
   "metadata": {},
   "outputs": [],
   "source": []
  },
  {
   "cell_type": "code",
   "execution_count": 237,
   "metadata": {},
   "outputs": [],
   "source": [
    "button = driver.find_element(By.ID, \"playnowbutton\")\n",
    "button.click()"
   ]
  },
  {
   "cell_type": "markdown",
   "metadata": {},
   "source": [
    "login_button = driver.find_element_by_css_selector(\"button[class='btn  btn-primary']\")"
   ]
  },
  {
   "cell_type": "code",
   "execution_count": 302,
   "metadata": {},
   "outputs": [
    {
     "data": {
      "text/plain": [
       "True"
      ]
     },
     "execution_count": 302,
     "metadata": {},
     "output_type": "execute_result"
    }
   ],
   "source": [
    "driver.save_screenshot('my_image.png')"
   ]
  },
  {
   "cell_type": "code",
   "execution_count": 78,
   "metadata": {},
   "outputs": [],
   "source": [
    "image = 'my_image.png'\n",
    "im = Image.open('my_image.png')\n",
    "im = im.crop((950,332,1200,375))\n",
    "file= 'my_file.png'\n",
    "im.save(file)"
   ]
  },
  {
   "cell_type": "code",
   "execution_count": 80,
   "metadata": {},
   "outputs": [
    {
     "data": {
      "text/plain": [
       "True"
      ]
     },
     "execution_count": 80,
     "metadata": {},
     "output_type": "execute_result"
    }
   ],
   "source": [
    "import cv2\n",
    "new_image = 'savedImage.png'\n",
    "out = cv2.imread('my_file.png')\n",
    "gray = cv2.cvtColor(out, cv2.COLOR_BGR2GRAY)\n",
    "blur = cv2.GaussianBlur(gray, (3,3), 0)\n",
    "thresh = cv2.threshold(blur, 0, 255, cv2.THRESH_BINARY_INV + cv2.THRESH_OTSU)[1]\n",
    "kernel = cv2.getStructuringElement(cv2.MORPH_RECT, (3,3))\n",
    "opening = cv2.morphologyEx(thresh, cv2.MORPH_OPEN, kernel, iterations=1)\n",
    "invert = 255 - opening\n",
    "resized_image = cv2.resize(out, (500, 500)) \n",
    "cv2.imwrite(new_image,thresh)\n"
   ]
  },
  {
   "cell_type": "code",
   "execution_count": 73,
   "metadata": {},
   "outputs": [
    {
     "data": {
      "text/plain": [
       "''"
      ]
     },
     "execution_count": 73,
     "metadata": {},
     "output_type": "execute_result"
    }
   ],
   "source": [
    "hp= pytesseract.image_to_string(thresh,config='--psm 13 --oem 3 -c tessedit_char_whitelist=0123456789%')\n",
    "hp\n"
   ]
  },
  {
   "cell_type": "code",
   "execution_count": 81,
   "metadata": {},
   "outputs": [
    {
     "data": {
      "text/plain": [
       "'{E] Beautifly\\n'"
      ]
     },
     "execution_count": 81,
     "metadata": {},
     "output_type": "execute_result"
    }
   ],
   "source": [
    "extracted_text= pytesseract.image_to_string(thresh,config=\"--psm 10\")\n",
    "extracted_text"
   ]
  },
  {
   "cell_type": "code",
   "execution_count": 28,
   "metadata": {},
   "outputs": [],
   "source": [
    "from selenium.webdriver.common.action_chains import ActionChains\n",
    "from selenium.webdriver.common.keys import Keys"
   ]
  },
  {
   "cell_type": "code",
   "execution_count": 2,
   "metadata": {},
   "outputs": [
    {
     "ename": "NameError",
     "evalue": "name 'driver' is not defined",
     "output_type": "error",
     "traceback": [
      "\u001b[1;31m---------------------------------------------------------------------------\u001b[0m",
      "\u001b[1;31mNameError\u001b[0m                                 Traceback (most recent call last)",
      "Cell \u001b[1;32mIn[2], line 35\u001b[0m\n\u001b[0;32m     33\u001b[0m         \u001b[38;5;28;01mreturn\u001b[39;00m \u001b[38;5;124m'\u001b[39m\u001b[38;5;124ma\u001b[39m\u001b[38;5;124m'\u001b[39m\n\u001b[0;32m     34\u001b[0m mode \u001b[38;5;241m=\u001b[39m \u001b[38;5;124m'\u001b[39m\u001b[38;5;124ma\u001b[39m\u001b[38;5;124m'\u001b[39m\n\u001b[1;32m---> 35\u001b[0m mode \u001b[38;5;241m=\u001b[39m walk(mode,\u001b[43mdriver\u001b[49m)\n",
      "\u001b[1;31mNameError\u001b[0m: name 'driver' is not defined"
     ]
    }
   ],
   "source": [
    "def walk(mode,driver):\n",
    "    if mode == 'a':\n",
    "        actions = ActionChains(driver)\n",
    "        actions.key_down(\"a\")\n",
    "        actions.perform()\n",
    "        time.sleep(0.5)\n",
    "        actions.key_up(\"a\")\n",
    "        actions.perform()\n",
    "        return 's'\n",
    "    elif mode == 's':\n",
    "        actions = ActionChains(driver)\n",
    "        actions.key_down(\"s\")\n",
    "        actions.perform()\n",
    "        time.sleep(0.5)\n",
    "        actions.key_up(\"s\")\n",
    "        actions.perform()\n",
    "        return 'd'\n",
    "    elif mode == 'd':\n",
    "        actions = ActionChains(driver)\n",
    "        actions.key_down(\"d\")\n",
    "        actions.perform()\n",
    "        time.sleep(0.5)\n",
    "        actions.key_up(\"d\")\n",
    "        actions.perform()\n",
    "        return 'w'\n",
    "    else:\n",
    "        actions = ActionChains(driver)\n",
    "        actions.key_down(\"w\")\n",
    "        actions.perform()\n",
    "        time.sleep(0.5)\n",
    "        actions.key_up(\"w\")\n",
    "        actions.perform()\n",
    "        return 'a'\n",
    "mode = 'a'\n",
    "mode = walk(mode,driver)"
   ]
  },
  {
   "cell_type": "code",
   "execution_count": 29,
   "metadata": {},
   "outputs": [],
   "source": [
    "actions = ActionChains(driver)\n",
    "actions.send_keys(Keys.RETURN)\n",
    "#actions.send_keys(\"/\")\n",
    "#actions.send_keys(\"disableplayers\")\n",
    "#actions.send_keys(Keys.RETURN)\n",
    "actions.perform()"
   ]
  },
  {
   "cell_type": "code",
   "execution_count": 33,
   "metadata": {},
   "outputs": [
    {
     "data": {
      "text/plain": [
       "'Pichu'"
      ]
     },
     "execution_count": 33,
     "metadata": {},
     "output_type": "execute_result"
    }
   ],
   "source": [
    "string = '[E][S]Pichu'\n",
    "string[6:]"
   ]
  },
  {
   "cell_type": "code",
   "execution_count": 4,
   "metadata": {},
   "outputs": [],
   "source": [
    "from plyer import notification\n",
    "notification.notify(\n",
    "    title = 'testing',\n",
    "    message = 'message',\n",
    "    app_icon = None,\n",
    "    timeout = 10,\n",
    ")\n"
   ]
  }
 ],
 "metadata": {
  "kernelspec": {
   "display_name": "Python 3",
   "language": "python",
   "name": "python3"
  },
  "language_info": {
   "codemirror_mode": {
    "name": "ipython",
    "version": 3
   },
   "file_extension": ".py",
   "mimetype": "text/x-python",
   "name": "python",
   "nbconvert_exporter": "python",
   "pygments_lexer": "ipython3",
   "version": "3.11.5"
  }
 },
 "nbformat": 4,
 "nbformat_minor": 2
}
