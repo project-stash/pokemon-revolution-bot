{
 "cells": [
  {
   "cell_type": "code",
   "execution_count": 1,
   "metadata": {},
   "outputs": [],
   "source": [
    "import pyautogui as pg, sys,time,random\n",
    "import pytesseract\n",
    "from selenium import webdriver\n",
    "from PIL import ImageGrab\n",
    "from PIL import Image\n",
    "from selenium.webdriver.edge.service import Service\n",
    "from selenium.webdriver.edge.options import Options\n",
    "from selenium.webdriver.common.by import By"
   ]
  },
  {
   "cell_type": "code",
   "execution_count": 2,
   "metadata": {},
   "outputs": [],
   "source": [
    "edge_options = Options()\n",
    "edge_options.add_experimental_option(\"detach\", True)\n",
    "#edge_options.add_argument('headless')\n",
    "screenshot = ImageGrab.grab()\n",
    "service = Service(executable_path='./msedgedriver.exe')\n",
    "driver = webdriver.Edge(service = service,options = edge_options)\n",
    "url = \"https://pokemon-planet.com\"\n",
    "driver.get(url)"
   ]
  },
  {
   "cell_type": "code",
   "execution_count": 3,
   "metadata": {},
   "outputs": [],
   "source": [
    "driver.set_window_size(1722, 1034)"
   ]
  },
  {
   "cell_type": "code",
   "execution_count": 5,
   "metadata": {},
   "outputs": [
    {
     "name": "stdout",
     "output_type": "stream",
     "text": [
      "{'width': 1722, 'height': 1034}\n"
     ]
    }
   ],
   "source": [
    "print(driver.get_window_size())"
   ]
  },
  {
   "cell_type": "code",
   "execution_count": 6,
   "metadata": {},
   "outputs": [],
   "source": [
    "button = driver.find_element(By.ID, \"playnow2\")\n",
    "button.click()\n",
    "button = driver.find_element(By.ID, \"user\")\n",
    "button.send_keys(\"invincibletroll\")\n",
    "button = driver.find_element(By.ID, \"passwrd\")\n",
    "button.send_keys(\"chi020725\")"
   ]
  },
  {
   "cell_type": "code",
   "execution_count": 7,
   "metadata": {},
   "outputs": [],
   "source": [
    "button = driver.find_element(By.XPATH, '//button[@type=\"submit\"]')\n",
    "button.click()"
   ]
  },
  {
   "cell_type": "code",
   "execution_count": null,
   "metadata": {},
   "outputs": [],
   "source": []
  },
  {
   "cell_type": "code",
   "execution_count": 8,
   "metadata": {},
   "outputs": [],
   "source": [
    "button = driver.find_element(By.ID, \"playnowbutton\")\n",
    "button.click()"
   ]
  },
  {
   "cell_type": "markdown",
   "metadata": {},
   "source": [
    "login_button = driver.find_element_by_css_selector(\"button[class='btn  btn-primary']\")"
   ]
  },
  {
   "cell_type": "code",
   "execution_count": 9,
   "metadata": {},
   "outputs": [
    {
     "data": {
      "text/plain": [
       "True"
      ]
     },
     "execution_count": 9,
     "metadata": {},
     "output_type": "execute_result"
    }
   ],
   "source": [
    "driver.save_screenshot('my_image.png')"
   ]
  },
  {
   "cell_type": "code",
   "execution_count": 22,
   "metadata": {},
   "outputs": [],
   "source": [
    "image = 'my_image.png'\n",
    "im = Image.open('my_image.png')\n",
    "im = im.crop((1000,800,1100,850))\n",
    "file= 'my_file.png'\n",
    "im.save(file)"
   ]
  },
  {
   "cell_type": "code",
   "execution_count": 23,
   "metadata": {},
   "outputs": [
    {
     "data": {
      "text/plain": [
       "True"
      ]
     },
     "execution_count": 23,
     "metadata": {},
     "output_type": "execute_result"
    }
   ],
   "source": [
    "import cv2\n",
    "new_image = 'savedImage.png'\n",
    "out = cv2.imread('my_file.png')\n",
    "gray = cv2.cvtColor(out, cv2.COLOR_BGR2GRAY)\n",
    "blur = cv2.GaussianBlur(gray, (3,3), 0)\n",
    "thresh = cv2.threshold(blur, 0, 255, cv2.THRESH_BINARY_INV + cv2.THRESH_OTSU)[1]\n",
    "kernel = cv2.getStructuringElement(cv2.MORPH_RECT, (3,3))\n",
    "opening = cv2.morphologyEx(thresh, cv2.MORPH_OPEN, kernel, iterations=1)\n",
    "invert = 255 - opening\n",
    "resized_image = cv2.resize(out, (500, 500)) \n",
    "cv2.imwrite(new_image,thresh)\n"
   ]
  },
  {
   "cell_type": "code",
   "execution_count": 24,
   "metadata": {},
   "outputs": [
    {
     "data": {
      "text/plain": [
       "'Fight:\\n'"
      ]
     },
     "execution_count": 24,
     "metadata": {},
     "output_type": "execute_result"
    }
   ],
   "source": [
    "img = cv2.imread(\"my_file.png\")\n",
    "gry = cv2.cvtColor(img, cv2.COLOR_BGR2GRAY)\n",
    "blur = cv2.GaussianBlur(gray, (3,3), 0)\n",
    "thr = cv2.threshold(blur, thresh=0, maxval=255, type=cv2.THRESH_OTSU + cv2.THRESH_BINARY_INV)[1]\n",
    "hp= pytesseract.image_to_string(thr,config=\"--psm 10\")\n",
    "hp\n",
    "\n"
   ]
  },
  {
   "cell_type": "code",
   "execution_count": 60,
   "metadata": {},
   "outputs": [
    {
     "data": {
      "text/plain": [
       "''"
      ]
     },
     "execution_count": 60,
     "metadata": {},
     "output_type": "execute_result"
    }
   ],
   "source": [
    "hp= pytesseract.image_to_string(thresh,config='--psm 13 --oem 3 -c tessedit_char_whitelist=0123456789%')\n",
    "hp\n"
   ]
  },
  {
   "cell_type": "code",
   "execution_count": 62,
   "metadata": {},
   "outputs": [
    {
     "data": {
      "text/plain": [
       "''"
      ]
     },
     "execution_count": 62,
     "metadata": {},
     "output_type": "execute_result"
    }
   ],
   "source": [
    "extracted_text= pytesseract.image_to_string(file,config=\"--psm 10\")\n",
    "extracted_text"
   ]
  },
  {
   "cell_type": "code",
   "execution_count": 28,
   "metadata": {},
   "outputs": [],
   "source": [
    "from selenium.webdriver.common.action_chains import ActionChains\n",
    "from selenium.webdriver.common.keys import Keys"
   ]
  },
  {
   "cell_type": "code",
   "execution_count": 91,
   "metadata": {},
   "outputs": [
    {
     "data": {
      "text/plain": [
       "'Butterfree-Christmas\\n'"
      ]
     },
     "execution_count": 91,
     "metadata": {},
     "output_type": "execute_result"
    }
   ],
   "source": [
    "image = 'my_image.png'\n",
    "new_image = 'savedImage.png'\n",
    "im = Image.open(image)\n",
    "im = im.crop((950,332,1200,375))\n",
    "file= 'my_file.png'\n",
    "im.save(file)\n",
    "out = cv2.imread('my_file.png')\n",
    "gray = cv2.cvtColor(out, cv2.COLOR_BGR2GRAY)\n",
    "blur = cv2.GaussianBlur(gray, (3,3), 0)\n",
    "thresh = cv2.threshold(blur, 0, 255, cv2.THRESH_BINARY_INV + cv2.THRESH_OTSU)[1]\n",
    "cv2.imwrite(new_image,thresh)\n",
    "extracted_text= pytesseract.image_to_string(thresh,config=\"--psm 10\")\n",
    "extracted_text2= pytesseract.image_to_string(file,config=\"--psm 10\")\n",
    "extracted_text"
   ]
  },
  {
   "cell_type": "code",
   "execution_count": 29,
   "metadata": {},
   "outputs": [],
   "source": [
    "actions = ActionChains(driver)\n",
    "actions.send_keys(Keys.RETURN)\n",
    "#actions.send_keys(\"/\")\n",
    "#actions.send_keys(\"disableplayers\")\n",
    "#actions.send_keys(Keys.RETURN)\n",
    "actions.perform()"
   ]
  },
  {
   "cell_type": "code",
   "execution_count": 33,
   "metadata": {},
   "outputs": [
    {
     "data": {
      "text/plain": [
       "'Pichu'"
      ]
     },
     "execution_count": 33,
     "metadata": {},
     "output_type": "execute_result"
    }
   ],
   "source": [
    "string = '[E][S]Pichu'\n",
    "string[6:]"
   ]
  },
  {
   "cell_type": "code",
   "execution_count": 4,
   "metadata": {},
   "outputs": [],
   "source": [
    "from plyer import notification\n",
    "notification.notify(\n",
    "    title = 'testing',\n",
    "    message = 'message',\n",
    "    app_icon = None,\n",
    "    timeout = 10,\n",
    ")\n"
   ]
  }
 ],
 "metadata": {
  "kernelspec": {
   "display_name": "Python 3",
   "language": "python",
   "name": "python3"
  },
  "language_info": {
   "codemirror_mode": {
    "name": "ipython",
    "version": 3
   },
   "file_extension": ".py",
   "mimetype": "text/x-python",
   "name": "python",
   "nbconvert_exporter": "python",
   "pygments_lexer": "ipython3",
   "version": "3.11.5"
  }
 },
 "nbformat": 4,
 "nbformat_minor": 2
}
